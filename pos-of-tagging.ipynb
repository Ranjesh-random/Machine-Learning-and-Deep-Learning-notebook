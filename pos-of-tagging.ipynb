{
 "cells": [
  {
   "cell_type": "code",
   "execution_count": 1,
   "id": "a8c0f6ed",
   "metadata": {
    "_cell_guid": "b1076dfc-b9ad-4769-8c92-a6c4dae69d19",
    "_uuid": "8f2839f25d086af736a60e9eeb907d3b93b6e0e5",
    "execution": {
     "iopub.execute_input": "2024-04-15T18:20:55.516205Z",
     "iopub.status.busy": "2024-04-15T18:20:55.515849Z",
     "iopub.status.idle": "2024-04-15T18:20:56.300724Z",
     "shell.execute_reply": "2024-04-15T18:20:56.299809Z"
    },
    "papermill": {
     "duration": 0.79478,
     "end_time": "2024-04-15T18:20:56.303212",
     "exception": false,
     "start_time": "2024-04-15T18:20:55.508432",
     "status": "completed"
    },
    "tags": []
   },
   "outputs": [],
   "source": [
    "# This Python 3 environment comes with many helpful analytics libraries installed\n",
    "# It is defined by the kaggle/python Docker image: https://github.com/kaggle/docker-python\n",
    "# For example, here's several helpful packages to load\n",
    "\n",
    "import numpy as np # linear algebra\n",
    "import pandas as pd # data processing, CSV file I/O (e.g. pd.read_csv)\n",
    "\n",
    "# Input data files are available in the read-only \"../input/\" directory\n",
    "# For example, running this (by clicking run or pressing Shift+Enter) will list all files under the input directory\n",
    "\n",
    "import os\n",
    "for dirname, _, filenames in os.walk('/kaggle/input'):\n",
    "    for filename in filenames:\n",
    "        print(os.path.join(dirname, filename))\n",
    "\n",
    "# You can write up to 20GB to the current directory (/kaggle/working/) that gets preserved as output when you create a version using \"Save & Run All\" \n",
    "# You can also write temporary files to /kaggle/temp/, but they won't be saved outside of the current session"
   ]
  },
  {
   "cell_type": "code",
   "execution_count": 2,
   "id": "bd5bc8ec",
   "metadata": {
    "execution": {
     "iopub.execute_input": "2024-04-15T18:20:56.317633Z",
     "iopub.status.busy": "2024-04-15T18:20:56.316551Z",
     "iopub.status.idle": "2024-04-15T18:21:01.024677Z",
     "shell.execute_reply": "2024-04-15T18:21:01.023775Z"
    },
    "papermill": {
     "duration": 4.717114,
     "end_time": "2024-04-15T18:21:01.027106",
     "exception": false,
     "start_time": "2024-04-15T18:20:56.309992",
     "status": "completed"
    },
    "tags": []
   },
   "outputs": [],
   "source": [
    "import spacy"
   ]
  },
  {
   "cell_type": "code",
   "execution_count": 3,
   "id": "200da268",
   "metadata": {
    "execution": {
     "iopub.execute_input": "2024-04-15T18:21:01.039834Z",
     "iopub.status.busy": "2024-04-15T18:21:01.038872Z",
     "iopub.status.idle": "2024-04-15T18:21:02.054749Z",
     "shell.execute_reply": "2024-04-15T18:21:02.053843Z"
    },
    "papermill": {
     "duration": 1.024941,
     "end_time": "2024-04-15T18:21:02.057431",
     "exception": false,
     "start_time": "2024-04-15T18:21:01.032490",
     "status": "completed"
    },
    "tags": []
   },
   "outputs": [],
   "source": [
    "nlp = spacy.load('en_core_web_sm')"
   ]
  },
  {
   "cell_type": "code",
   "execution_count": 4,
   "id": "fe321b96",
   "metadata": {
    "execution": {
     "iopub.execute_input": "2024-04-15T18:21:02.070864Z",
     "iopub.status.busy": "2024-04-15T18:21:02.070065Z",
     "iopub.status.idle": "2024-04-15T18:21:02.098203Z",
     "shell.execute_reply": "2024-04-15T18:21:02.097198Z"
    },
    "papermill": {
     "duration": 0.036981,
     "end_time": "2024-04-15T18:21:02.100544",
     "exception": false,
     "start_time": "2024-04-15T18:21:02.063563",
     "status": "completed"
    },
    "tags": []
   },
   "outputs": [],
   "source": [
    "doc = nlp(u\"I will google about facebook\")"
   ]
  },
  {
   "cell_type": "code",
   "execution_count": 5,
   "id": "307d4067",
   "metadata": {
    "execution": {
     "iopub.execute_input": "2024-04-15T18:21:02.117120Z",
     "iopub.status.busy": "2024-04-15T18:21:02.116519Z",
     "iopub.status.idle": "2024-04-15T18:21:02.125062Z",
     "shell.execute_reply": "2024-04-15T18:21:02.124030Z"
    },
    "papermill": {
     "duration": 0.019708,
     "end_time": "2024-04-15T18:21:02.127210",
     "exception": false,
     "start_time": "2024-04-15T18:21:02.107502",
     "status": "completed"
    },
    "tags": []
   },
   "outputs": [
    {
     "data": {
      "text/plain": [
       "'I will google about facebook'"
      ]
     },
     "execution_count": 5,
     "metadata": {},
     "output_type": "execute_result"
    }
   ],
   "source": [
    "doc.text"
   ]
  },
  {
   "cell_type": "code",
   "execution_count": 6,
   "id": "674f200e",
   "metadata": {
    "execution": {
     "iopub.execute_input": "2024-04-15T18:21:02.144812Z",
     "iopub.status.busy": "2024-04-15T18:21:02.143649Z",
     "iopub.status.idle": "2024-04-15T18:21:02.150602Z",
     "shell.execute_reply": "2024-04-15T18:21:02.149662Z"
    },
    "papermill": {
     "duration": 0.018334,
     "end_time": "2024-04-15T18:21:02.152703",
     "exception": false,
     "start_time": "2024-04-15T18:21:02.134369",
     "status": "completed"
    },
    "tags": []
   },
   "outputs": [
    {
     "data": {
      "text/plain": [
       "I"
      ]
     },
     "execution_count": 6,
     "metadata": {},
     "output_type": "execute_result"
    }
   ],
   "source": [
    "doc[0]"
   ]
  },
  {
   "cell_type": "code",
   "execution_count": 7,
   "id": "3ab5cb3c",
   "metadata": {
    "execution": {
     "iopub.execute_input": "2024-04-15T18:21:02.166448Z",
     "iopub.status.busy": "2024-04-15T18:21:02.166022Z",
     "iopub.status.idle": "2024-04-15T18:21:02.172835Z",
     "shell.execute_reply": "2024-04-15T18:21:02.171688Z"
    },
    "papermill": {
     "duration": 0.016484,
     "end_time": "2024-04-15T18:21:02.174983",
     "exception": false,
     "start_time": "2024-04-15T18:21:02.158499",
     "status": "completed"
    },
    "tags": []
   },
   "outputs": [
    {
     "data": {
      "text/plain": [
       "facebook"
      ]
     },
     "execution_count": 7,
     "metadata": {},
     "output_type": "execute_result"
    }
   ],
   "source": [
    "doc[-1]"
   ]
  },
  {
   "cell_type": "code",
   "execution_count": 8,
   "id": "10b3093d",
   "metadata": {
    "execution": {
     "iopub.execute_input": "2024-04-15T18:21:02.188494Z",
     "iopub.status.busy": "2024-04-15T18:21:02.187913Z",
     "iopub.status.idle": "2024-04-15T18:21:02.193829Z",
     "shell.execute_reply": "2024-04-15T18:21:02.192961Z"
    },
    "papermill": {
     "duration": 0.01475,
     "end_time": "2024-04-15T18:21:02.195719",
     "exception": false,
     "start_time": "2024-04-15T18:21:02.180969",
     "status": "completed"
    },
    "tags": []
   },
   "outputs": [
    {
     "data": {
      "text/plain": [
       "'PRON'"
      ]
     },
     "execution_count": 8,
     "metadata": {},
     "output_type": "execute_result"
    }
   ],
   "source": [
    "doc[0].pos_ ## I assign pronoun"
   ]
  },
  {
   "cell_type": "code",
   "execution_count": 9,
   "id": "b1acb096",
   "metadata": {
    "execution": {
     "iopub.execute_input": "2024-04-15T18:21:02.208771Z",
     "iopub.status.busy": "2024-04-15T18:21:02.208225Z",
     "iopub.status.idle": "2024-04-15T18:21:02.214170Z",
     "shell.execute_reply": "2024-04-15T18:21:02.213314Z"
    },
    "papermill": {
     "duration": 0.014738,
     "end_time": "2024-04-15T18:21:02.216092",
     "exception": false,
     "start_time": "2024-04-15T18:21:02.201354",
     "status": "completed"
    },
    "tags": []
   },
   "outputs": [
    {
     "data": {
      "text/plain": [
       "'VERB'"
      ]
     },
     "execution_count": 9,
     "metadata": {},
     "output_type": "execute_result"
    }
   ],
   "source": [
    "doc[2].pos_ ## google assign verb"
   ]
  },
  {
   "cell_type": "code",
   "execution_count": 10,
   "id": "63ec9c15",
   "metadata": {
    "execution": {
     "iopub.execute_input": "2024-04-15T18:21:02.230017Z",
     "iopub.status.busy": "2024-04-15T18:21:02.229647Z",
     "iopub.status.idle": "2024-04-15T18:21:02.236008Z",
     "shell.execute_reply": "2024-04-15T18:21:02.235215Z"
    },
    "papermill": {
     "duration": 0.015131,
     "end_time": "2024-04-15T18:21:02.237942",
     "exception": false,
     "start_time": "2024-04-15T18:21:02.222811",
     "status": "completed"
    },
    "tags": []
   },
   "outputs": [
    {
     "data": {
      "text/plain": [
       "'VB'"
      ]
     },
     "execution_count": 10,
     "metadata": {},
     "output_type": "execute_result"
    }
   ],
   "source": [
    "doc[2].tag_"
   ]
  },
  {
   "cell_type": "code",
   "execution_count": 11,
   "id": "daf4dbd2",
   "metadata": {
    "execution": {
     "iopub.execute_input": "2024-04-15T18:21:02.251380Z",
     "iopub.status.busy": "2024-04-15T18:21:02.250738Z",
     "iopub.status.idle": "2024-04-15T18:21:02.257051Z",
     "shell.execute_reply": "2024-04-15T18:21:02.256096Z"
    },
    "papermill": {
     "duration": 0.015178,
     "end_time": "2024-04-15T18:21:02.258931",
     "exception": false,
     "start_time": "2024-04-15T18:21:02.243753",
     "status": "completed"
    },
    "tags": []
   },
   "outputs": [
    {
     "data": {
      "text/plain": [
       "'verb, base form'"
      ]
     },
     "execution_count": 11,
     "metadata": {},
     "output_type": "execute_result"
    }
   ],
   "source": [
    "spacy.explain('VB')"
   ]
  },
  {
   "cell_type": "code",
   "execution_count": 12,
   "id": "fcc23f41",
   "metadata": {
    "execution": {
     "iopub.execute_input": "2024-04-15T18:21:02.272488Z",
     "iopub.status.busy": "2024-04-15T18:21:02.272133Z",
     "iopub.status.idle": "2024-04-15T18:21:02.278316Z",
     "shell.execute_reply": "2024-04-15T18:21:02.276839Z"
    },
    "papermill": {
     "duration": 0.015375,
     "end_time": "2024-04-15T18:21:02.280326",
     "exception": false,
     "start_time": "2024-04-15T18:21:02.264951",
     "status": "completed"
    },
    "tags": []
   },
   "outputs": [
    {
     "name": "stdout",
     "output_type": "stream",
     "text": [
      "I ------> PRON PRP pronoun, personal\n",
      "will ------> AUX MD verb, modal auxiliary\n",
      "google ------> VERB VB verb, base form\n",
      "about ------> ADP IN conjunction, subordinating or preposition\n",
      "facebook ------> NOUN NN noun, singular or mass\n"
     ]
    }
   ],
   "source": [
    "for word in doc:\n",
    "    print(word.text,\"------>\",word.pos_,word.tag_,spacy.explain(word.tag_))"
   ]
  },
  {
   "cell_type": "code",
   "execution_count": 13,
   "id": "a5b7873a",
   "metadata": {
    "execution": {
     "iopub.execute_input": "2024-04-15T18:21:02.294405Z",
     "iopub.status.busy": "2024-04-15T18:21:02.293567Z",
     "iopub.status.idle": "2024-04-15T18:21:02.306446Z",
     "shell.execute_reply": "2024-04-15T18:21:02.305499Z"
    },
    "papermill": {
     "duration": 0.021922,
     "end_time": "2024-04-15T18:21:02.308349",
     "exception": false,
     "start_time": "2024-04-15T18:21:02.286427",
     "status": "completed"
    },
    "tags": []
   },
   "outputs": [
    {
     "name": "stdout",
     "output_type": "stream",
     "text": [
      "I ------> PRON PRP pronoun, personal\n",
      "left ------> VERB VBD verb, past tense\n",
      "the ------> DET DT determiner\n",
      "room ------> NOUN NN noun, singular or mass\n"
     ]
    }
   ],
   "source": [
    "doc2 = nlp(u\"I left the room\")\n",
    "for word in doc2:\n",
    "    print(word.text,\"------>\",word.pos_,word.tag_,spacy.explain(word.tag_))"
   ]
  },
  {
   "cell_type": "code",
   "execution_count": 14,
   "id": "dc650621",
   "metadata": {
    "execution": {
     "iopub.execute_input": "2024-04-15T18:21:02.322426Z",
     "iopub.status.busy": "2024-04-15T18:21:02.321860Z",
     "iopub.status.idle": "2024-04-15T18:21:02.338535Z",
     "shell.execute_reply": "2024-04-15T18:21:02.337416Z"
    },
    "papermill": {
     "duration": 0.026073,
     "end_time": "2024-04-15T18:21:02.340533",
     "exception": false,
     "start_time": "2024-04-15T18:21:02.314460",
     "status": "completed"
    },
    "tags": []
   },
   "outputs": [
    {
     "name": "stdout",
     "output_type": "stream",
     "text": [
      "to ------> ADP IN conjunction, subordinating or preposition\n",
      "the ------> DET DT determiner\n",
      "  ------> SPACE _SP whitespace\n",
      "left ------> VERB VBN verb, past participle\n",
      "to ------> ADP IN conjunction, subordinating or preposition\n",
      "the ------> DET DT determiner\n",
      "room ------> NOUN NN noun, singular or mass\n"
     ]
    }
   ],
   "source": [
    "doc3 = nlp(u\"to the  left to the room\")\n",
    "for word in doc3:\n",
    "    print(word.text,\"------>\",word.pos_,word.tag_,spacy.explain(word.tag_))"
   ]
  },
  {
   "cell_type": "code",
   "execution_count": 15,
   "id": "9f904c8a",
   "metadata": {
    "execution": {
     "iopub.execute_input": "2024-04-15T18:21:02.354875Z",
     "iopub.status.busy": "2024-04-15T18:21:02.354503Z",
     "iopub.status.idle": "2024-04-15T18:21:02.368408Z",
     "shell.execute_reply": "2024-04-15T18:21:02.367005Z"
    },
    "papermill": {
     "duration": 0.023916,
     "end_time": "2024-04-15T18:21:02.370687",
     "exception": false,
     "start_time": "2024-04-15T18:21:02.346771",
     "status": "completed"
    },
    "tags": []
   },
   "outputs": [
    {
     "name": "stdout",
     "output_type": "stream",
     "text": [
      "I ------> PRON PRP pronoun, personal\n",
      "read ------> VERB VBP verb, non-3rd person singular present\n",
      "books ------> NOUN NNS noun, plural\n",
      "on ------> ADP IN conjunction, subordinating or preposition\n",
      "history ------> NOUN NN noun, singular or mass\n"
     ]
    }
   ],
   "source": [
    "doc4 = nlp(u\"I read books on history\")\n",
    "for word in doc4:\n",
    "    print(word.text,\"------>\",word.pos_,word.tag_,spacy.explain(word.tag_))"
   ]
  },
  {
   "cell_type": "markdown",
   "id": "8e51ae6e",
   "metadata": {
    "papermill": {
     "duration": 0.006097,
     "end_time": "2024-04-15T18:21:02.383233",
     "exception": false,
     "start_time": "2024-04-15T18:21:02.377136",
     "status": "completed"
    },
    "tags": []
   },
   "source": [
    "**VISIUALE REPRESENTATION OF POS TAGGING**"
   ]
  },
  {
   "cell_type": "code",
   "execution_count": 16,
   "id": "a0feb136",
   "metadata": {
    "execution": {
     "iopub.execute_input": "2024-04-15T18:21:02.398014Z",
     "iopub.status.busy": "2024-04-15T18:21:02.397387Z",
     "iopub.status.idle": "2024-04-15T18:21:02.409459Z",
     "shell.execute_reply": "2024-04-15T18:21:02.408319Z"
    },
    "papermill": {
     "duration": 0.022073,
     "end_time": "2024-04-15T18:21:02.411610",
     "exception": false,
     "start_time": "2024-04-15T18:21:02.389537",
     "status": "completed"
    },
    "tags": []
   },
   "outputs": [],
   "source": [
    "doc5 = nlp(u\"The quick brown fox jumped over the lazy dog\")"
   ]
  },
  {
   "cell_type": "code",
   "execution_count": 17,
   "id": "b126956b",
   "metadata": {
    "execution": {
     "iopub.execute_input": "2024-04-15T18:21:02.426399Z",
     "iopub.status.busy": "2024-04-15T18:21:02.426010Z",
     "iopub.status.idle": "2024-04-15T18:21:02.430336Z",
     "shell.execute_reply": "2024-04-15T18:21:02.429232Z"
    },
    "papermill": {
     "duration": 0.014356,
     "end_time": "2024-04-15T18:21:02.432377",
     "exception": false,
     "start_time": "2024-04-15T18:21:02.418021",
     "status": "completed"
    },
    "tags": []
   },
   "outputs": [],
   "source": [
    "from spacy import displacy "
   ]
  },
  {
   "cell_type": "code",
   "execution_count": 18,
   "id": "6b1db0d0",
   "metadata": {
    "execution": {
     "iopub.execute_input": "2024-04-15T18:21:02.446919Z",
     "iopub.status.busy": "2024-04-15T18:21:02.446550Z",
     "iopub.status.idle": "2024-04-15T18:21:02.456066Z",
     "shell.execute_reply": "2024-04-15T18:21:02.455364Z"
    },
    "papermill": {
     "duration": 0.018885,
     "end_time": "2024-04-15T18:21:02.457800",
     "exception": false,
     "start_time": "2024-04-15T18:21:02.438915",
     "status": "completed"
    },
    "tags": []
   },
   "outputs": [
    {
     "data": {
      "text/html": [
       "<span class=\"tex2jax_ignore\"><svg xmlns=\"http://www.w3.org/2000/svg\" xmlns:xlink=\"http://www.w3.org/1999/xlink\" xml:lang=\"en\" id=\"cb19837a755c43c0be37ef1a97cca7b6-0\" class=\"displacy\" width=\"1625\" height=\"399.5\" direction=\"ltr\" style=\"max-width: none; height: 399.5px; color: #000000; background: #ffffff; font-family: Arial; direction: ltr\">\n",
       "<text class=\"displacy-token\" fill=\"currentColor\" text-anchor=\"middle\" y=\"309.5\">\n",
       "    <tspan class=\"displacy-word\" fill=\"currentColor\" x=\"50\">The</tspan>\n",
       "    <tspan class=\"displacy-tag\" dy=\"2em\" fill=\"currentColor\" x=\"50\">DET</tspan>\n",
       "</text>\n",
       "\n",
       "<text class=\"displacy-token\" fill=\"currentColor\" text-anchor=\"middle\" y=\"309.5\">\n",
       "    <tspan class=\"displacy-word\" fill=\"currentColor\" x=\"225\">quick</tspan>\n",
       "    <tspan class=\"displacy-tag\" dy=\"2em\" fill=\"currentColor\" x=\"225\">ADJ</tspan>\n",
       "</text>\n",
       "\n",
       "<text class=\"displacy-token\" fill=\"currentColor\" text-anchor=\"middle\" y=\"309.5\">\n",
       "    <tspan class=\"displacy-word\" fill=\"currentColor\" x=\"400\">brown</tspan>\n",
       "    <tspan class=\"displacy-tag\" dy=\"2em\" fill=\"currentColor\" x=\"400\">ADJ</tspan>\n",
       "</text>\n",
       "\n",
       "<text class=\"displacy-token\" fill=\"currentColor\" text-anchor=\"middle\" y=\"309.5\">\n",
       "    <tspan class=\"displacy-word\" fill=\"currentColor\" x=\"575\">fox</tspan>\n",
       "    <tspan class=\"displacy-tag\" dy=\"2em\" fill=\"currentColor\" x=\"575\">NOUN</tspan>\n",
       "</text>\n",
       "\n",
       "<text class=\"displacy-token\" fill=\"currentColor\" text-anchor=\"middle\" y=\"309.5\">\n",
       "    <tspan class=\"displacy-word\" fill=\"currentColor\" x=\"750\">jumped</tspan>\n",
       "    <tspan class=\"displacy-tag\" dy=\"2em\" fill=\"currentColor\" x=\"750\">VERB</tspan>\n",
       "</text>\n",
       "\n",
       "<text class=\"displacy-token\" fill=\"currentColor\" text-anchor=\"middle\" y=\"309.5\">\n",
       "    <tspan class=\"displacy-word\" fill=\"currentColor\" x=\"925\">over</tspan>\n",
       "    <tspan class=\"displacy-tag\" dy=\"2em\" fill=\"currentColor\" x=\"925\">ADP</tspan>\n",
       "</text>\n",
       "\n",
       "<text class=\"displacy-token\" fill=\"currentColor\" text-anchor=\"middle\" y=\"309.5\">\n",
       "    <tspan class=\"displacy-word\" fill=\"currentColor\" x=\"1100\">the</tspan>\n",
       "    <tspan class=\"displacy-tag\" dy=\"2em\" fill=\"currentColor\" x=\"1100\">DET</tspan>\n",
       "</text>\n",
       "\n",
       "<text class=\"displacy-token\" fill=\"currentColor\" text-anchor=\"middle\" y=\"309.5\">\n",
       "    <tspan class=\"displacy-word\" fill=\"currentColor\" x=\"1275\">lazy</tspan>\n",
       "    <tspan class=\"displacy-tag\" dy=\"2em\" fill=\"currentColor\" x=\"1275\">ADJ</tspan>\n",
       "</text>\n",
       "\n",
       "<text class=\"displacy-token\" fill=\"currentColor\" text-anchor=\"middle\" y=\"309.5\">\n",
       "    <tspan class=\"displacy-word\" fill=\"currentColor\" x=\"1450\">dog</tspan>\n",
       "    <tspan class=\"displacy-tag\" dy=\"2em\" fill=\"currentColor\" x=\"1450\">NOUN</tspan>\n",
       "</text>\n",
       "\n",
       "<g class=\"displacy-arrow\">\n",
       "    <path class=\"displacy-arc\" id=\"arrow-cb19837a755c43c0be37ef1a97cca7b6-0-0\" stroke-width=\"2px\" d=\"M70,264.5 C70,2.0 575.0,2.0 575.0,264.5\" fill=\"none\" stroke=\"currentColor\"/>\n",
       "    <text dy=\"1.25em\" style=\"font-size: 0.8em; letter-spacing: 1px\">\n",
       "        <textPath xlink:href=\"#arrow-cb19837a755c43c0be37ef1a97cca7b6-0-0\" class=\"displacy-label\" startOffset=\"50%\" side=\"left\" fill=\"currentColor\" text-anchor=\"middle\">det</textPath>\n",
       "    </text>\n",
       "    <path class=\"displacy-arrowhead\" d=\"M70,266.5 L62,254.5 78,254.5\" fill=\"currentColor\"/>\n",
       "</g>\n",
       "\n",
       "<g class=\"displacy-arrow\">\n",
       "    <path class=\"displacy-arc\" id=\"arrow-cb19837a755c43c0be37ef1a97cca7b6-0-1\" stroke-width=\"2px\" d=\"M245,264.5 C245,89.5 570.0,89.5 570.0,264.5\" fill=\"none\" stroke=\"currentColor\"/>\n",
       "    <text dy=\"1.25em\" style=\"font-size: 0.8em; letter-spacing: 1px\">\n",
       "        <textPath xlink:href=\"#arrow-cb19837a755c43c0be37ef1a97cca7b6-0-1\" class=\"displacy-label\" startOffset=\"50%\" side=\"left\" fill=\"currentColor\" text-anchor=\"middle\">amod</textPath>\n",
       "    </text>\n",
       "    <path class=\"displacy-arrowhead\" d=\"M245,266.5 L237,254.5 253,254.5\" fill=\"currentColor\"/>\n",
       "</g>\n",
       "\n",
       "<g class=\"displacy-arrow\">\n",
       "    <path class=\"displacy-arc\" id=\"arrow-cb19837a755c43c0be37ef1a97cca7b6-0-2\" stroke-width=\"2px\" d=\"M420,264.5 C420,177.0 565.0,177.0 565.0,264.5\" fill=\"none\" stroke=\"currentColor\"/>\n",
       "    <text dy=\"1.25em\" style=\"font-size: 0.8em; letter-spacing: 1px\">\n",
       "        <textPath xlink:href=\"#arrow-cb19837a755c43c0be37ef1a97cca7b6-0-2\" class=\"displacy-label\" startOffset=\"50%\" side=\"left\" fill=\"currentColor\" text-anchor=\"middle\">amod</textPath>\n",
       "    </text>\n",
       "    <path class=\"displacy-arrowhead\" d=\"M420,266.5 L412,254.5 428,254.5\" fill=\"currentColor\"/>\n",
       "</g>\n",
       "\n",
       "<g class=\"displacy-arrow\">\n",
       "    <path class=\"displacy-arc\" id=\"arrow-cb19837a755c43c0be37ef1a97cca7b6-0-3\" stroke-width=\"2px\" d=\"M595,264.5 C595,177.0 740.0,177.0 740.0,264.5\" fill=\"none\" stroke=\"currentColor\"/>\n",
       "    <text dy=\"1.25em\" style=\"font-size: 0.8em; letter-spacing: 1px\">\n",
       "        <textPath xlink:href=\"#arrow-cb19837a755c43c0be37ef1a97cca7b6-0-3\" class=\"displacy-label\" startOffset=\"50%\" side=\"left\" fill=\"currentColor\" text-anchor=\"middle\">nsubj</textPath>\n",
       "    </text>\n",
       "    <path class=\"displacy-arrowhead\" d=\"M595,266.5 L587,254.5 603,254.5\" fill=\"currentColor\"/>\n",
       "</g>\n",
       "\n",
       "<g class=\"displacy-arrow\">\n",
       "    <path class=\"displacy-arc\" id=\"arrow-cb19837a755c43c0be37ef1a97cca7b6-0-4\" stroke-width=\"2px\" d=\"M770,264.5 C770,177.0 915.0,177.0 915.0,264.5\" fill=\"none\" stroke=\"currentColor\"/>\n",
       "    <text dy=\"1.25em\" style=\"font-size: 0.8em; letter-spacing: 1px\">\n",
       "        <textPath xlink:href=\"#arrow-cb19837a755c43c0be37ef1a97cca7b6-0-4\" class=\"displacy-label\" startOffset=\"50%\" side=\"left\" fill=\"currentColor\" text-anchor=\"middle\">prep</textPath>\n",
       "    </text>\n",
       "    <path class=\"displacy-arrowhead\" d=\"M915.0,266.5 L923.0,254.5 907.0,254.5\" fill=\"currentColor\"/>\n",
       "</g>\n",
       "\n",
       "<g class=\"displacy-arrow\">\n",
       "    <path class=\"displacy-arc\" id=\"arrow-cb19837a755c43c0be37ef1a97cca7b6-0-5\" stroke-width=\"2px\" d=\"M1120,264.5 C1120,89.5 1445.0,89.5 1445.0,264.5\" fill=\"none\" stroke=\"currentColor\"/>\n",
       "    <text dy=\"1.25em\" style=\"font-size: 0.8em; letter-spacing: 1px\">\n",
       "        <textPath xlink:href=\"#arrow-cb19837a755c43c0be37ef1a97cca7b6-0-5\" class=\"displacy-label\" startOffset=\"50%\" side=\"left\" fill=\"currentColor\" text-anchor=\"middle\">det</textPath>\n",
       "    </text>\n",
       "    <path class=\"displacy-arrowhead\" d=\"M1120,266.5 L1112,254.5 1128,254.5\" fill=\"currentColor\"/>\n",
       "</g>\n",
       "\n",
       "<g class=\"displacy-arrow\">\n",
       "    <path class=\"displacy-arc\" id=\"arrow-cb19837a755c43c0be37ef1a97cca7b6-0-6\" stroke-width=\"2px\" d=\"M1295,264.5 C1295,177.0 1440.0,177.0 1440.0,264.5\" fill=\"none\" stroke=\"currentColor\"/>\n",
       "    <text dy=\"1.25em\" style=\"font-size: 0.8em; letter-spacing: 1px\">\n",
       "        <textPath xlink:href=\"#arrow-cb19837a755c43c0be37ef1a97cca7b6-0-6\" class=\"displacy-label\" startOffset=\"50%\" side=\"left\" fill=\"currentColor\" text-anchor=\"middle\">amod</textPath>\n",
       "    </text>\n",
       "    <path class=\"displacy-arrowhead\" d=\"M1295,266.5 L1287,254.5 1303,254.5\" fill=\"currentColor\"/>\n",
       "</g>\n",
       "\n",
       "<g class=\"displacy-arrow\">\n",
       "    <path class=\"displacy-arc\" id=\"arrow-cb19837a755c43c0be37ef1a97cca7b6-0-7\" stroke-width=\"2px\" d=\"M945,264.5 C945,2.0 1450.0,2.0 1450.0,264.5\" fill=\"none\" stroke=\"currentColor\"/>\n",
       "    <text dy=\"1.25em\" style=\"font-size: 0.8em; letter-spacing: 1px\">\n",
       "        <textPath xlink:href=\"#arrow-cb19837a755c43c0be37ef1a97cca7b6-0-7\" class=\"displacy-label\" startOffset=\"50%\" side=\"left\" fill=\"currentColor\" text-anchor=\"middle\">pobj</textPath>\n",
       "    </text>\n",
       "    <path class=\"displacy-arrowhead\" d=\"M1450.0,266.5 L1458.0,254.5 1442.0,254.5\" fill=\"currentColor\"/>\n",
       "</g>\n",
       "</svg></span>"
      ],
      "text/plain": [
       "<IPython.core.display.HTML object>"
      ]
     },
     "metadata": {},
     "output_type": "display_data"
    }
   ],
   "source": [
    "displacy.render(doc5,style='dep',jupyter=True)"
   ]
  },
  {
   "cell_type": "markdown",
   "id": "4d88af0f",
   "metadata": {
    "papermill": {
     "duration": 0.006455,
     "end_time": "2024-04-15T18:21:02.470868",
     "exception": false,
     "start_time": "2024-04-15T18:21:02.464413",
     "status": "completed"
    },
    "tags": []
   },
   "source": [
    "**ANOTHER WAY REPRESENTATION OF PS TAGGING**"
   ]
  },
  {
   "cell_type": "code",
   "execution_count": 19,
   "id": "43341d73",
   "metadata": {
    "execution": {
     "iopub.execute_input": "2024-04-15T18:21:02.486238Z",
     "iopub.status.busy": "2024-04-15T18:21:02.485389Z",
     "iopub.status.idle": "2024-04-15T18:21:02.490043Z",
     "shell.execute_reply": "2024-04-15T18:21:02.489066Z"
    },
    "papermill": {
     "duration": 0.014673,
     "end_time": "2024-04-15T18:21:02.492174",
     "exception": false,
     "start_time": "2024-04-15T18:21:02.477501",
     "status": "completed"
    },
    "tags": []
   },
   "outputs": [],
   "source": [
    "options = {\n",
    "      'distance':70,\n",
    "     'compact':True,\n",
    "     'color': '#fff',\n",
    "     'bg': '#00a65a'\n",
    "}"
   ]
  },
  {
   "cell_type": "code",
   "execution_count": 20,
   "id": "b650ef51",
   "metadata": {
    "execution": {
     "iopub.execute_input": "2024-04-15T18:21:02.506600Z",
     "iopub.status.busy": "2024-04-15T18:21:02.506283Z",
     "iopub.status.idle": "2024-04-15T18:21:02.516528Z",
     "shell.execute_reply": "2024-04-15T18:21:02.515542Z"
    },
    "papermill": {
     "duration": 0.01992,
     "end_time": "2024-04-15T18:21:02.518650",
     "exception": false,
     "start_time": "2024-04-15T18:21:02.498730",
     "status": "completed"
    },
    "tags": []
   },
   "outputs": [
    {
     "data": {
      "text/html": [
       "<span class=\"tex2jax_ignore\"><svg xmlns=\"http://www.w3.org/2000/svg\" xmlns:xlink=\"http://www.w3.org/1999/xlink\" xml:lang=\"en\" id=\"4f328bb372ad49369bdd2b11529eaf87-0\" class=\"displacy\" width=\"680\" height=\"242.0\" direction=\"ltr\" style=\"max-width: none; height: 242.0px; color: #fff; background: #00a65a; font-family: Arial; direction: ltr\">\n",
       "<text class=\"displacy-token\" fill=\"currentColor\" text-anchor=\"middle\" y=\"152.0\">\n",
       "    <tspan class=\"displacy-word\" fill=\"currentColor\" x=\"50\">The</tspan>\n",
       "    <tspan class=\"displacy-tag\" dy=\"2em\" fill=\"currentColor\" x=\"50\">DET</tspan>\n",
       "</text>\n",
       "\n",
       "<text class=\"displacy-token\" fill=\"currentColor\" text-anchor=\"middle\" y=\"152.0\">\n",
       "    <tspan class=\"displacy-word\" fill=\"currentColor\" x=\"120\">quick</tspan>\n",
       "    <tspan class=\"displacy-tag\" dy=\"2em\" fill=\"currentColor\" x=\"120\">ADJ</tspan>\n",
       "</text>\n",
       "\n",
       "<text class=\"displacy-token\" fill=\"currentColor\" text-anchor=\"middle\" y=\"152.0\">\n",
       "    <tspan class=\"displacy-word\" fill=\"currentColor\" x=\"190\">brown</tspan>\n",
       "    <tspan class=\"displacy-tag\" dy=\"2em\" fill=\"currentColor\" x=\"190\">ADJ</tspan>\n",
       "</text>\n",
       "\n",
       "<text class=\"displacy-token\" fill=\"currentColor\" text-anchor=\"middle\" y=\"152.0\">\n",
       "    <tspan class=\"displacy-word\" fill=\"currentColor\" x=\"260\">fox</tspan>\n",
       "    <tspan class=\"displacy-tag\" dy=\"2em\" fill=\"currentColor\" x=\"260\">NOUN</tspan>\n",
       "</text>\n",
       "\n",
       "<text class=\"displacy-token\" fill=\"currentColor\" text-anchor=\"middle\" y=\"152.0\">\n",
       "    <tspan class=\"displacy-word\" fill=\"currentColor\" x=\"330\">jumped</tspan>\n",
       "    <tspan class=\"displacy-tag\" dy=\"2em\" fill=\"currentColor\" x=\"330\">VERB</tspan>\n",
       "</text>\n",
       "\n",
       "<text class=\"displacy-token\" fill=\"currentColor\" text-anchor=\"middle\" y=\"152.0\">\n",
       "    <tspan class=\"displacy-word\" fill=\"currentColor\" x=\"400\">over</tspan>\n",
       "    <tspan class=\"displacy-tag\" dy=\"2em\" fill=\"currentColor\" x=\"400\">ADP</tspan>\n",
       "</text>\n",
       "\n",
       "<text class=\"displacy-token\" fill=\"currentColor\" text-anchor=\"middle\" y=\"152.0\">\n",
       "    <tspan class=\"displacy-word\" fill=\"currentColor\" x=\"470\">the</tspan>\n",
       "    <tspan class=\"displacy-tag\" dy=\"2em\" fill=\"currentColor\" x=\"470\">DET</tspan>\n",
       "</text>\n",
       "\n",
       "<text class=\"displacy-token\" fill=\"currentColor\" text-anchor=\"middle\" y=\"152.0\">\n",
       "    <tspan class=\"displacy-word\" fill=\"currentColor\" x=\"540\">lazy</tspan>\n",
       "    <tspan class=\"displacy-tag\" dy=\"2em\" fill=\"currentColor\" x=\"540\">ADJ</tspan>\n",
       "</text>\n",
       "\n",
       "<text class=\"displacy-token\" fill=\"currentColor\" text-anchor=\"middle\" y=\"152.0\">\n",
       "    <tspan class=\"displacy-word\" fill=\"currentColor\" x=\"610\">dog</tspan>\n",
       "    <tspan class=\"displacy-tag\" dy=\"2em\" fill=\"currentColor\" x=\"610\">NOUN</tspan>\n",
       "</text>\n",
       "\n",
       "<g class=\"displacy-arrow\">\n",
       "    <path class=\"displacy-arc\" id=\"arrow-4f328bb372ad49369bdd2b11529eaf87-0-0\" stroke-width=\"2px\" d=\"M62,107.0 62,72.0 260.0,72.0 260.0,107.0\" fill=\"none\" stroke=\"currentColor\"/>\n",
       "    <text dy=\"1.25em\" style=\"font-size: 0.8em; letter-spacing: 1px\">\n",
       "        <textPath xlink:href=\"#arrow-4f328bb372ad49369bdd2b11529eaf87-0-0\" class=\"displacy-label\" startOffset=\"50%\" side=\"left\" fill=\"currentColor\" text-anchor=\"middle\">det</textPath>\n",
       "    </text>\n",
       "    <path class=\"displacy-arrowhead\" d=\"M62,109.0 L58,101.0 66,101.0\" fill=\"currentColor\"/>\n",
       "</g>\n",
       "\n",
       "<g class=\"displacy-arrow\">\n",
       "    <path class=\"displacy-arc\" id=\"arrow-4f328bb372ad49369bdd2b11529eaf87-0-1\" stroke-width=\"2px\" d=\"M132,107.0 132,83.66666666666667 257.0,83.66666666666667 257.0,107.0\" fill=\"none\" stroke=\"currentColor\"/>\n",
       "    <text dy=\"1.25em\" style=\"font-size: 0.8em; letter-spacing: 1px\">\n",
       "        <textPath xlink:href=\"#arrow-4f328bb372ad49369bdd2b11529eaf87-0-1\" class=\"displacy-label\" startOffset=\"50%\" side=\"left\" fill=\"currentColor\" text-anchor=\"middle\">amod</textPath>\n",
       "    </text>\n",
       "    <path class=\"displacy-arrowhead\" d=\"M132,109.0 L128,101.0 136,101.0\" fill=\"currentColor\"/>\n",
       "</g>\n",
       "\n",
       "<g class=\"displacy-arrow\">\n",
       "    <path class=\"displacy-arc\" id=\"arrow-4f328bb372ad49369bdd2b11529eaf87-0-2\" stroke-width=\"2px\" d=\"M202,107.0 202,95.33333333333333 254.0,95.33333333333333 254.0,107.0\" fill=\"none\" stroke=\"currentColor\"/>\n",
       "    <text dy=\"1.25em\" style=\"font-size: 0.8em; letter-spacing: 1px\">\n",
       "        <textPath xlink:href=\"#arrow-4f328bb372ad49369bdd2b11529eaf87-0-2\" class=\"displacy-label\" startOffset=\"50%\" side=\"left\" fill=\"currentColor\" text-anchor=\"middle\">amod</textPath>\n",
       "    </text>\n",
       "    <path class=\"displacy-arrowhead\" d=\"M202,109.0 L198,101.0 206,101.0\" fill=\"currentColor\"/>\n",
       "</g>\n",
       "\n",
       "<g class=\"displacy-arrow\">\n",
       "    <path class=\"displacy-arc\" id=\"arrow-4f328bb372ad49369bdd2b11529eaf87-0-3\" stroke-width=\"2px\" d=\"M272,107.0 272,95.33333333333333 324.0,95.33333333333333 324.0,107.0\" fill=\"none\" stroke=\"currentColor\"/>\n",
       "    <text dy=\"1.25em\" style=\"font-size: 0.8em; letter-spacing: 1px\">\n",
       "        <textPath xlink:href=\"#arrow-4f328bb372ad49369bdd2b11529eaf87-0-3\" class=\"displacy-label\" startOffset=\"50%\" side=\"left\" fill=\"currentColor\" text-anchor=\"middle\">nsubj</textPath>\n",
       "    </text>\n",
       "    <path class=\"displacy-arrowhead\" d=\"M272,109.0 L268,101.0 276,101.0\" fill=\"currentColor\"/>\n",
       "</g>\n",
       "\n",
       "<g class=\"displacy-arrow\">\n",
       "    <path class=\"displacy-arc\" id=\"arrow-4f328bb372ad49369bdd2b11529eaf87-0-4\" stroke-width=\"2px\" d=\"M342,107.0 342,95.33333333333333 394.0,95.33333333333333 394.0,107.0\" fill=\"none\" stroke=\"currentColor\"/>\n",
       "    <text dy=\"1.25em\" style=\"font-size: 0.8em; letter-spacing: 1px\">\n",
       "        <textPath xlink:href=\"#arrow-4f328bb372ad49369bdd2b11529eaf87-0-4\" class=\"displacy-label\" startOffset=\"50%\" side=\"left\" fill=\"currentColor\" text-anchor=\"middle\">prep</textPath>\n",
       "    </text>\n",
       "    <path class=\"displacy-arrowhead\" d=\"M394.0,109.0 L398.0,101.0 390.0,101.0\" fill=\"currentColor\"/>\n",
       "</g>\n",
       "\n",
       "<g class=\"displacy-arrow\">\n",
       "    <path class=\"displacy-arc\" id=\"arrow-4f328bb372ad49369bdd2b11529eaf87-0-5\" stroke-width=\"2px\" d=\"M482,107.0 482,83.66666666666667 607.0,83.66666666666667 607.0,107.0\" fill=\"none\" stroke=\"currentColor\"/>\n",
       "    <text dy=\"1.25em\" style=\"font-size: 0.8em; letter-spacing: 1px\">\n",
       "        <textPath xlink:href=\"#arrow-4f328bb372ad49369bdd2b11529eaf87-0-5\" class=\"displacy-label\" startOffset=\"50%\" side=\"left\" fill=\"currentColor\" text-anchor=\"middle\">det</textPath>\n",
       "    </text>\n",
       "    <path class=\"displacy-arrowhead\" d=\"M482,109.0 L478,101.0 486,101.0\" fill=\"currentColor\"/>\n",
       "</g>\n",
       "\n",
       "<g class=\"displacy-arrow\">\n",
       "    <path class=\"displacy-arc\" id=\"arrow-4f328bb372ad49369bdd2b11529eaf87-0-6\" stroke-width=\"2px\" d=\"M552,107.0 552,95.33333333333333 604.0,95.33333333333333 604.0,107.0\" fill=\"none\" stroke=\"currentColor\"/>\n",
       "    <text dy=\"1.25em\" style=\"font-size: 0.8em; letter-spacing: 1px\">\n",
       "        <textPath xlink:href=\"#arrow-4f328bb372ad49369bdd2b11529eaf87-0-6\" class=\"displacy-label\" startOffset=\"50%\" side=\"left\" fill=\"currentColor\" text-anchor=\"middle\">amod</textPath>\n",
       "    </text>\n",
       "    <path class=\"displacy-arrowhead\" d=\"M552,109.0 L548,101.0 556,101.0\" fill=\"currentColor\"/>\n",
       "</g>\n",
       "\n",
       "<g class=\"displacy-arrow\">\n",
       "    <path class=\"displacy-arc\" id=\"arrow-4f328bb372ad49369bdd2b11529eaf87-0-7\" stroke-width=\"2px\" d=\"M412,107.0 412,72.0 610.0,72.0 610.0,107.0\" fill=\"none\" stroke=\"currentColor\"/>\n",
       "    <text dy=\"1.25em\" style=\"font-size: 0.8em; letter-spacing: 1px\">\n",
       "        <textPath xlink:href=\"#arrow-4f328bb372ad49369bdd2b11529eaf87-0-7\" class=\"displacy-label\" startOffset=\"50%\" side=\"left\" fill=\"currentColor\" text-anchor=\"middle\">pobj</textPath>\n",
       "    </text>\n",
       "    <path class=\"displacy-arrowhead\" d=\"M610.0,109.0 L614.0,101.0 606.0,101.0\" fill=\"currentColor\"/>\n",
       "</g>\n",
       "</svg></span>"
      ],
      "text/plain": [
       "<IPython.core.display.HTML object>"
      ]
     },
     "metadata": {},
     "output_type": "display_data"
    }
   ],
   "source": [
    "displacy.render(doc5,style='dep',jupyter=True,options= options)"
   ]
  },
  {
   "cell_type": "code",
   "execution_count": null,
   "id": "212cf257",
   "metadata": {
    "papermill": {
     "duration": 0.006758,
     "end_time": "2024-04-15T18:21:02.532407",
     "exception": false,
     "start_time": "2024-04-15T18:21:02.525649",
     "status": "completed"
    },
    "tags": []
   },
   "outputs": [],
   "source": []
  }
 ],
 "metadata": {
  "kaggle": {
   "accelerator": "none",
   "dataSources": [],
   "dockerImageVersionId": 30684,
   "isGpuEnabled": false,
   "isInternetEnabled": true,
   "language": "python",
   "sourceType": "notebook"
  },
  "kernelspec": {
   "display_name": "Python 3",
   "language": "python",
   "name": "python3"
  },
  "language_info": {
   "codemirror_mode": {
    "name": "ipython",
    "version": 3
   },
   "file_extension": ".py",
   "mimetype": "text/x-python",
   "name": "python",
   "nbconvert_exporter": "python",
   "pygments_lexer": "ipython3",
   "version": "3.10.13"
  },
  "papermill": {
   "default_parameters": {},
   "duration": 10.662475,
   "end_time": "2024-04-15T18:21:03.559866",
   "environment_variables": {},
   "exception": null,
   "input_path": "__notebook__.ipynb",
   "output_path": "__notebook__.ipynb",
   "parameters": {},
   "start_time": "2024-04-15T18:20:52.897391",
   "version": "2.5.0"
  }
 },
 "nbformat": 4,
 "nbformat_minor": 5
}
