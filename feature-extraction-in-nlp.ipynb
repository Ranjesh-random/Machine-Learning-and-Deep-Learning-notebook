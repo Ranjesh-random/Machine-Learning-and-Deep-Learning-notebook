{
 "cells": [
  {
   "cell_type": "code",
   "execution_count": 1,
   "id": "b85d9e25",
   "metadata": {
    "_cell_guid": "b1076dfc-b9ad-4769-8c92-a6c4dae69d19",
    "_uuid": "8f2839f25d086af736a60e9eeb907d3b93b6e0e5",
    "execution": {
     "iopub.execute_input": "2024-04-15T18:26:31.919082Z",
     "iopub.status.busy": "2024-04-15T18:26:31.918279Z",
     "iopub.status.idle": "2024-04-15T18:26:32.712392Z",
     "shell.execute_reply": "2024-04-15T18:26:32.711572Z"
    },
    "papermill": {
     "duration": 0.804184,
     "end_time": "2024-04-15T18:26:32.714787",
     "exception": false,
     "start_time": "2024-04-15T18:26:31.910603",
     "status": "completed"
    },
    "tags": []
   },
   "outputs": [],
   "source": [
    "# This Python 3 environment comes with many helpful analytics libraries installed\n",
    "# It is defined by the kaggle/python Docker image: https://github.com/kaggle/docker-python\n",
    "# For example, here's several helpful packages to load\n",
    "\n",
    "import numpy as np # linear algebra\n",
    "import pandas as pd # data processing, CSV file I/O (e.g. pd.read_csv)\n",
    "\n",
    "# Input data files are available in the read-only \"../input/\" directory\n",
    "# For example, running this (by clicking run or pressing Shift+Enter) will list all files under the input directory\n",
    "\n",
    "import os\n",
    "for dirname, _, filenames in os.walk('/kaggle/input'):\n",
    "    for filename in filenames:\n",
    "        print(os.path.join(dirname, filename))\n",
    "\n",
    "# You can write up to 20GB to the current directory (/kaggle/working/) that gets preserved as output when you create a version using \"Save & Run All\" \n",
    "# You can also write temporary files to /kaggle/temp/, but they won't be saved outside of the current session"
   ]
  },
  {
   "cell_type": "code",
   "execution_count": 2,
   "id": "9714e7a2",
   "metadata": {
    "execution": {
     "iopub.execute_input": "2024-04-15T18:26:32.727935Z",
     "iopub.status.busy": "2024-04-15T18:26:32.727144Z",
     "iopub.status.idle": "2024-04-15T18:26:32.732108Z",
     "shell.execute_reply": "2024-04-15T18:26:32.731104Z"
    },
    "papermill": {
     "duration": 0.014044,
     "end_time": "2024-04-15T18:26:32.734430",
     "exception": false,
     "start_time": "2024-04-15T18:26:32.720386",
     "status": "completed"
    },
    "tags": []
   },
   "outputs": [],
   "source": [
    "import numpy as np \n",
    "import pandas as pd"
   ]
  },
  {
   "cell_type": "code",
   "execution_count": 3,
   "id": "c3efc59a",
   "metadata": {
    "execution": {
     "iopub.execute_input": "2024-04-15T18:26:32.746707Z",
     "iopub.status.busy": "2024-04-15T18:26:32.746357Z",
     "iopub.status.idle": "2024-04-15T18:26:32.753056Z",
     "shell.execute_reply": "2024-04-15T18:26:32.752145Z"
    },
    "papermill": {
     "duration": 0.015276,
     "end_time": "2024-04-15T18:26:32.754992",
     "exception": false,
     "start_time": "2024-04-15T18:26:32.739716",
     "status": "completed"
    },
    "tags": []
   },
   "outputs": [],
   "source": [
    "df = pd.DataFrame({'text':['people watch campusx' , 'campusx watch people' , 'people write comment' , 'campusx write comment'],'output':[1,1,0,0]})"
   ]
  },
  {
   "cell_type": "code",
   "execution_count": 4,
   "id": "5ef27751",
   "metadata": {
    "execution": {
     "iopub.execute_input": "2024-04-15T18:26:32.767582Z",
     "iopub.status.busy": "2024-04-15T18:26:32.766561Z",
     "iopub.status.idle": "2024-04-15T18:26:32.781313Z",
     "shell.execute_reply": "2024-04-15T18:26:32.780319Z"
    },
    "papermill": {
     "duration": 0.022983,
     "end_time": "2024-04-15T18:26:32.783315",
     "exception": false,
     "start_time": "2024-04-15T18:26:32.760332",
     "status": "completed"
    },
    "tags": []
   },
   "outputs": [
    {
     "data": {
      "text/html": [
       "<div>\n",
       "<style scoped>\n",
       "    .dataframe tbody tr th:only-of-type {\n",
       "        vertical-align: middle;\n",
       "    }\n",
       "\n",
       "    .dataframe tbody tr th {\n",
       "        vertical-align: top;\n",
       "    }\n",
       "\n",
       "    .dataframe thead th {\n",
       "        text-align: right;\n",
       "    }\n",
       "</style>\n",
       "<table border=\"1\" class=\"dataframe\">\n",
       "  <thead>\n",
       "    <tr style=\"text-align: right;\">\n",
       "      <th></th>\n",
       "      <th>text</th>\n",
       "      <th>output</th>\n",
       "    </tr>\n",
       "  </thead>\n",
       "  <tbody>\n",
       "    <tr>\n",
       "      <th>0</th>\n",
       "      <td>people watch campusx</td>\n",
       "      <td>1</td>\n",
       "    </tr>\n",
       "    <tr>\n",
       "      <th>1</th>\n",
       "      <td>campusx watch people</td>\n",
       "      <td>1</td>\n",
       "    </tr>\n",
       "    <tr>\n",
       "      <th>2</th>\n",
       "      <td>people write comment</td>\n",
       "      <td>0</td>\n",
       "    </tr>\n",
       "    <tr>\n",
       "      <th>3</th>\n",
       "      <td>campusx write comment</td>\n",
       "      <td>0</td>\n",
       "    </tr>\n",
       "  </tbody>\n",
       "</table>\n",
       "</div>"
      ],
      "text/plain": [
       "                    text  output\n",
       "0   people watch campusx       1\n",
       "1   campusx watch people       1\n",
       "2   people write comment       0\n",
       "3  campusx write comment       0"
      ]
     },
     "execution_count": 4,
     "metadata": {},
     "output_type": "execute_result"
    }
   ],
   "source": [
    "df"
   ]
  },
  {
   "cell_type": "code",
   "execution_count": 5,
   "id": "d98a4143",
   "metadata": {
    "execution": {
     "iopub.execute_input": "2024-04-15T18:26:32.795414Z",
     "iopub.status.busy": "2024-04-15T18:26:32.795072Z",
     "iopub.status.idle": "2024-04-15T18:26:33.931382Z",
     "shell.execute_reply": "2024-04-15T18:26:33.930349Z"
    },
    "papermill": {
     "duration": 1.144981,
     "end_time": "2024-04-15T18:26:33.933687",
     "exception": false,
     "start_time": "2024-04-15T18:26:32.788706",
     "status": "completed"
    },
    "tags": []
   },
   "outputs": [],
   "source": [
    "from sklearn.feature_extraction.text import CountVectorizer\n",
    "cv = CountVectorizer()"
   ]
  },
  {
   "cell_type": "code",
   "execution_count": 6,
   "id": "fce18d18",
   "metadata": {
    "execution": {
     "iopub.execute_input": "2024-04-15T18:26:33.946344Z",
     "iopub.status.busy": "2024-04-15T18:26:33.945975Z",
     "iopub.status.idle": "2024-04-15T18:26:33.960384Z",
     "shell.execute_reply": "2024-04-15T18:26:33.959626Z"
    },
    "papermill": {
     "duration": 0.023063,
     "end_time": "2024-04-15T18:26:33.962360",
     "exception": false,
     "start_time": "2024-04-15T18:26:33.939297",
     "status": "completed"
    },
    "tags": []
   },
   "outputs": [],
   "source": [
    "bow = cv.fit_transform(df['text'])"
   ]
  },
  {
   "cell_type": "code",
   "execution_count": 7,
   "id": "9b29f567",
   "metadata": {
    "execution": {
     "iopub.execute_input": "2024-04-15T18:26:33.974784Z",
     "iopub.status.busy": "2024-04-15T18:26:33.974267Z",
     "iopub.status.idle": "2024-04-15T18:26:33.978523Z",
     "shell.execute_reply": "2024-04-15T18:26:33.977854Z"
    },
    "papermill": {
     "duration": 0.012447,
     "end_time": "2024-04-15T18:26:33.980343",
     "exception": false,
     "start_time": "2024-04-15T18:26:33.967896",
     "status": "completed"
    },
    "tags": []
   },
   "outputs": [
    {
     "name": "stdout",
     "output_type": "stream",
     "text": [
      "{'people': 2, 'watch': 3, 'campusx': 0, 'write': 4, 'comment': 1}\n"
     ]
    }
   ],
   "source": [
    "## vocabulary\n",
    "print(cv.vocabulary_)"
   ]
  },
  {
   "cell_type": "code",
   "execution_count": 8,
   "id": "977aa38b",
   "metadata": {
    "execution": {
     "iopub.execute_input": "2024-04-15T18:26:33.993556Z",
     "iopub.status.busy": "2024-04-15T18:26:33.992997Z",
     "iopub.status.idle": "2024-04-15T18:26:33.998611Z",
     "shell.execute_reply": "2024-04-15T18:26:33.997606Z"
    },
    "papermill": {
     "duration": 0.015054,
     "end_time": "2024-04-15T18:26:34.000834",
     "exception": false,
     "start_time": "2024-04-15T18:26:33.985780",
     "status": "completed"
    },
    "tags": []
   },
   "outputs": [
    {
     "name": "stdout",
     "output_type": "stream",
     "text": [
      "[[1 0 1 1 0]]\n",
      "[[1 0 1 1 0]]\n"
     ]
    }
   ],
   "source": [
    "print(bow[0].toarray())\n",
    "print(bow[1].toarray())\n"
   ]
  },
  {
   "cell_type": "code",
   "execution_count": 9,
   "id": "25938293",
   "metadata": {
    "execution": {
     "iopub.execute_input": "2024-04-15T18:26:34.013893Z",
     "iopub.status.busy": "2024-04-15T18:26:34.013328Z",
     "iopub.status.idle": "2024-04-15T18:26:34.019867Z",
     "shell.execute_reply": "2024-04-15T18:26:34.018997Z"
    },
    "papermill": {
     "duration": 0.015342,
     "end_time": "2024-04-15T18:26:34.021803",
     "exception": false,
     "start_time": "2024-04-15T18:26:34.006461",
     "status": "completed"
    },
    "tags": []
   },
   "outputs": [
    {
     "data": {
      "text/plain": [
       "array([[2, 1, 0, 0, 1]])"
      ]
     },
     "execution_count": 9,
     "metadata": {},
     "output_type": "execute_result"
    }
   ],
   "source": [
    " ## forany traing data and handle oov problem\n",
    "cv.transform([\"campusx with and write comment of campusx\"]).toarray()"
   ]
  },
  {
   "cell_type": "markdown",
   "id": "e5a4ac93",
   "metadata": {
    "papermill": {
     "duration": 0.005773,
     "end_time": "2024-04-15T18:26:34.034389",
     "exception": false,
     "start_time": "2024-04-15T18:26:34.028616",
     "status": "completed"
    },
    "tags": []
   },
   "source": [
    "**handle out of vocabulary problem **"
   ]
  },
  {
   "cell_type": "markdown",
   "id": "78016773",
   "metadata": {
    "papermill": {
     "duration": 0.00535,
     "end_time": "2024-04-15T18:26:34.045708",
     "exception": false,
     "start_time": "2024-04-15T18:26:34.040358",
     "status": "completed"
    },
    "tags": []
   },
   "source": [
    "**N_GRAMS TECHNIQUE OF FEATURE EXTRACTION**"
   ]
  },
  {
   "cell_type": "code",
   "execution_count": 10,
   "id": "a73b6852",
   "metadata": {
    "execution": {
     "iopub.execute_input": "2024-04-15T18:26:34.058728Z",
     "iopub.status.busy": "2024-04-15T18:26:34.058107Z",
     "iopub.status.idle": "2024-04-15T18:26:34.062764Z",
     "shell.execute_reply": "2024-04-15T18:26:34.062009Z"
    },
    "papermill": {
     "duration": 0.013535,
     "end_time": "2024-04-15T18:26:34.064748",
     "exception": false,
     "start_time": "2024-04-15T18:26:34.051213",
     "status": "completed"
    },
    "tags": []
   },
   "outputs": [],
   "source": [
    "from sklearn.feature_extraction.text import CountVectorizer\n",
    "cv = CountVectorizer(ngram_range=(2,2))\n",
    "\n",
    "## (2,2) represent the bigram, so we can extend this like\n"
   ]
  },
  {
   "cell_type": "code",
   "execution_count": 11,
   "id": "cc25e9bd",
   "metadata": {
    "execution": {
     "iopub.execute_input": "2024-04-15T18:26:34.077780Z",
     "iopub.status.busy": "2024-04-15T18:26:34.077203Z",
     "iopub.status.idle": "2024-04-15T18:26:34.082980Z",
     "shell.execute_reply": "2024-04-15T18:26:34.081980Z"
    },
    "papermill": {
     "duration": 0.014745,
     "end_time": "2024-04-15T18:26:34.085113",
     "exception": false,
     "start_time": "2024-04-15T18:26:34.070368",
     "status": "completed"
    },
    "tags": []
   },
   "outputs": [],
   "source": [
    "bow = cv.fit_transform(df['text'])"
   ]
  },
  {
   "cell_type": "code",
   "execution_count": 12,
   "id": "b0d0d06a",
   "metadata": {
    "execution": {
     "iopub.execute_input": "2024-04-15T18:26:34.098074Z",
     "iopub.status.busy": "2024-04-15T18:26:34.097704Z",
     "iopub.status.idle": "2024-04-15T18:26:34.102195Z",
     "shell.execute_reply": "2024-04-15T18:26:34.101217Z"
    },
    "papermill": {
     "duration": 0.013637,
     "end_time": "2024-04-15T18:26:34.104506",
     "exception": false,
     "start_time": "2024-04-15T18:26:34.090869",
     "status": "completed"
    },
    "tags": []
   },
   "outputs": [
    {
     "name": "stdout",
     "output_type": "stream",
     "text": [
      "{'people watch': 2, 'watch campusx': 4, 'campusx watch': 0, 'watch people': 5, 'people write': 3, 'write comment': 6, 'campusx write': 1}\n"
     ]
    }
   ],
   "source": [
    "## vocab\n",
    "print(cv.vocabulary_)"
   ]
  },
  {
   "cell_type": "code",
   "execution_count": 13,
   "id": "060c8d04",
   "metadata": {
    "execution": {
     "iopub.execute_input": "2024-04-15T18:26:34.118160Z",
     "iopub.status.busy": "2024-04-15T18:26:34.117192Z",
     "iopub.status.idle": "2024-04-15T18:26:34.123534Z",
     "shell.execute_reply": "2024-04-15T18:26:34.122438Z"
    },
    "papermill": {
     "duration": 0.015184,
     "end_time": "2024-04-15T18:26:34.125430",
     "exception": false,
     "start_time": "2024-04-15T18:26:34.110246",
     "status": "completed"
    },
    "tags": []
   },
   "outputs": [
    {
     "name": "stdout",
     "output_type": "stream",
     "text": [
      "[[0 0 1 0 1 0 0]]\n",
      "[[0 0 1 0 1 0 0]]\n"
     ]
    }
   ],
   "source": [
    "print(bow[0].toarray())\n",
    "print(bow[0].toarray())"
   ]
  },
  {
   "cell_type": "code",
   "execution_count": 14,
   "id": "e8dc64b1",
   "metadata": {
    "execution": {
     "iopub.execute_input": "2024-04-15T18:26:34.139398Z",
     "iopub.status.busy": "2024-04-15T18:26:34.138722Z",
     "iopub.status.idle": "2024-04-15T18:26:34.142728Z",
     "shell.execute_reply": "2024-04-15T18:26:34.142049Z"
    },
    "papermill": {
     "duration": 0.013129,
     "end_time": "2024-04-15T18:26:34.144739",
     "exception": false,
     "start_time": "2024-04-15T18:26:34.131610",
     "status": "completed"
    },
    "tags": []
   },
   "outputs": [],
   "source": [
    " ## for (1,2) gram\n",
    "from sklearn.feature_extraction.text import CountVectorizer\n",
    "cv = CountVectorizer(ngram_range=(1,2))\n"
   ]
  },
  {
   "cell_type": "code",
   "execution_count": 15,
   "id": "abbf0ebf",
   "metadata": {
    "execution": {
     "iopub.execute_input": "2024-04-15T18:26:34.158583Z",
     "iopub.status.busy": "2024-04-15T18:26:34.157588Z",
     "iopub.status.idle": "2024-04-15T18:26:34.163363Z",
     "shell.execute_reply": "2024-04-15T18:26:34.162649Z"
    },
    "papermill": {
     "duration": 0.014832,
     "end_time": "2024-04-15T18:26:34.165416",
     "exception": false,
     "start_time": "2024-04-15T18:26:34.150584",
     "status": "completed"
    },
    "tags": []
   },
   "outputs": [],
   "source": [
    "bow = cv.fit_transform(df['text'])"
   ]
  },
  {
   "cell_type": "code",
   "execution_count": 16,
   "id": "37179c02",
   "metadata": {
    "execution": {
     "iopub.execute_input": "2024-04-15T18:26:34.178870Z",
     "iopub.status.busy": "2024-04-15T18:26:34.178303Z",
     "iopub.status.idle": "2024-04-15T18:26:34.183606Z",
     "shell.execute_reply": "2024-04-15T18:26:34.182431Z"
    },
    "papermill": {
     "duration": 0.01438,
     "end_time": "2024-04-15T18:26:34.185625",
     "exception": false,
     "start_time": "2024-04-15T18:26:34.171245",
     "status": "completed"
    },
    "tags": []
   },
   "outputs": [
    {
     "name": "stdout",
     "output_type": "stream",
     "text": [
      "{'people': 4, 'watch': 7, 'campusx': 0, 'people watch': 5, 'watch campusx': 8, 'campusx watch': 1, 'watch people': 9, 'write': 10, 'comment': 3, 'people write': 6, 'write comment': 11, 'campusx write': 2}\n"
     ]
    }
   ],
   "source": [
    "## vocab\n",
    "print(cv.vocabulary_)"
   ]
  },
  {
   "cell_type": "code",
   "execution_count": 17,
   "id": "8db7471d",
   "metadata": {
    "execution": {
     "iopub.execute_input": "2024-04-15T18:26:34.198993Z",
     "iopub.status.busy": "2024-04-15T18:26:34.198639Z",
     "iopub.status.idle": "2024-04-15T18:26:34.204387Z",
     "shell.execute_reply": "2024-04-15T18:26:34.203406Z"
    },
    "papermill": {
     "duration": 0.014817,
     "end_time": "2024-04-15T18:26:34.206431",
     "exception": false,
     "start_time": "2024-04-15T18:26:34.191614",
     "status": "completed"
    },
    "tags": []
   },
   "outputs": [
    {
     "name": "stdout",
     "output_type": "stream",
     "text": [
      "[[1 0 0 0 1 1 0 1 1 0 0 0]]\n",
      "[[1 1 0 0 1 0 0 1 0 1 0 0]]\n"
     ]
    }
   ],
   "source": [
    "print(bow[0].toarray())\n",
    "print(bow[1].toarray())"
   ]
  },
  {
   "cell_type": "markdown",
   "id": "2fa74b63",
   "metadata": {
    "papermill": {
     "duration": 0.005519,
     "end_time": "2024-04-15T18:26:34.217733",
     "exception": false,
     "start_time": "2024-04-15T18:26:34.212214",
     "status": "completed"
    },
    "tags": []
   },
   "source": [
    "**TF AND IDF FEATURE EXTRACTION TECHNIQUE**"
   ]
  },
  {
   "cell_type": "code",
   "execution_count": 18,
   "id": "aff7540b",
   "metadata": {
    "execution": {
     "iopub.execute_input": "2024-04-15T18:26:34.231197Z",
     "iopub.status.busy": "2024-04-15T18:26:34.230812Z",
     "iopub.status.idle": "2024-04-15T18:26:34.245121Z",
     "shell.execute_reply": "2024-04-15T18:26:34.244151Z"
    },
    "papermill": {
     "duration": 0.023536,
     "end_time": "2024-04-15T18:26:34.247186",
     "exception": false,
     "start_time": "2024-04-15T18:26:34.223650",
     "status": "completed"
    },
    "tags": []
   },
   "outputs": [
    {
     "data": {
      "text/plain": [
       "array([[0.53256952, 0.        , 0.53256952, 0.65782931, 0.        ],\n",
       "       [0.53256952, 0.        , 0.53256952, 0.65782931, 0.        ],\n",
       "       [0.        , 0.61366674, 0.49681612, 0.        , 0.61366674],\n",
       "       [0.49681612, 0.61366674, 0.        , 0.        , 0.61366674]])"
      ]
     },
     "execution_count": 18,
     "metadata": {},
     "output_type": "execute_result"
    }
   ],
   "source": [
    "from sklearn.feature_extraction.text import TfidfVectorizer\n",
    "tfidf = TfidfVectorizer()\n",
    "tfidf.fit_transform(df['text']).toarray()"
   ]
  },
  {
   "cell_type": "code",
   "execution_count": 19,
   "id": "b89e7d44",
   "metadata": {
    "execution": {
     "iopub.execute_input": "2024-04-15T18:26:34.261132Z",
     "iopub.status.busy": "2024-04-15T18:26:34.260281Z",
     "iopub.status.idle": "2024-04-15T18:26:34.266131Z",
     "shell.execute_reply": "2024-04-15T18:26:34.265160Z"
    },
    "papermill": {
     "duration": 0.015114,
     "end_time": "2024-04-15T18:26:34.268319",
     "exception": false,
     "start_time": "2024-04-15T18:26:34.253205",
     "status": "completed"
    },
    "tags": []
   },
   "outputs": [
    {
     "name": "stdout",
     "output_type": "stream",
     "text": [
      "[1.22314355 1.51082562 1.22314355 1.51082562 1.51082562]\n",
      "['campusx' 'comment' 'people' 'watch' 'write']\n"
     ]
    }
   ],
   "source": [
    "print(tfidf.idf_)\n",
    "print(tfidf.get_feature_names_out())"
   ]
  },
  {
   "cell_type": "code",
   "execution_count": null,
   "id": "197f6117",
   "metadata": {
    "papermill": {
     "duration": 0.005738,
     "end_time": "2024-04-15T18:26:34.280034",
     "exception": false,
     "start_time": "2024-04-15T18:26:34.274296",
     "status": "completed"
    },
    "tags": []
   },
   "outputs": [],
   "source": []
  }
 ],
 "metadata": {
  "kaggle": {
   "accelerator": "none",
   "dataSources": [],
   "dockerImageVersionId": 30684,
   "isGpuEnabled": false,
   "isInternetEnabled": true,
   "language": "python",
   "sourceType": "notebook"
  },
  "kernelspec": {
   "display_name": "Python 3",
   "language": "python",
   "name": "python3"
  },
  "language_info": {
   "codemirror_mode": {
    "name": "ipython",
    "version": 3
   },
   "file_extension": ".py",
   "mimetype": "text/x-python",
   "name": "python",
   "nbconvert_exporter": "python",
   "pygments_lexer": "ipython3",
   "version": "3.10.13"
  },
  "papermill": {
   "default_parameters": {},
   "duration": 5.781718,
   "end_time": "2024-04-15T18:26:34.805775",
   "environment_variables": {},
   "exception": null,
   "input_path": "__notebook__.ipynb",
   "output_path": "__notebook__.ipynb",
   "parameters": {},
   "start_time": "2024-04-15T18:26:29.024057",
   "version": "2.5.0"
  }
 },
 "nbformat": 4,
 "nbformat_minor": 5
}
